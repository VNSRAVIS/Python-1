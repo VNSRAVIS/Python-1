{
 "cells": [
  {
   "cell_type": "markdown",
   "metadata": {},
   "source": [
    "1. Python Tutorial: Web Scraping with BeautifulSoup and Requests\n",
    "    https://www.youtube.com/watch?v=ng2o98k983k\n",
    "2. How to scrape a website that requires login with Python \n",
    "    http://kazuar.github.io/scraping-tutorial/\n",
    "3. Beautiful Soup Documentation\n",
    "    https://www.crummy.com/software/BeautifulSoup/bs4/doc/\n"
   ]
  },
  {
   "cell_type": "code",
   "execution_count": 1,
   "metadata": {},
   "outputs": [],
   "source": [
    "from bs4 import BeautifulSoup\n",
    "import requests\n",
    "from lxml import html\n",
    "import csv"
   ]
  },
  {
   "cell_type": "code",
   "execution_count": 2,
   "metadata": {},
   "outputs": [],
   "source": [
    "# myToken = '23vZrnTdxzho12vBeIBkg8qo3bX5TSw9ZmN7pPIr'\n",
    "myUrl = 'https://www.appliedaicourse.com/login'\n",
    "\n",
    "payload = {\"username\": \"ravi.engineer@gmail.com\",\n",
    "           \"password\": \"Hello@012\",\n",
    "           \"_token\": \"23vZrnTdxzho12vBeIBkg8qo3bX5TSw9ZmN7pPIr\"}\n",
    "\n",
    "session_requests = requests.session()\n",
    "# result = session_requests.get(myUrl)\n",
    "# tree = html.fromstring(result.text)\n",
    "# authenticity_token = list(set(tree.xpath(\"//input[@name='_token']/@value\")))[0]\n",
    "# print(authenticity_token)\n",
    "\n",
    "result = session_requests.post(myUrl, data = payload, headers = dict(referer=myUrl))"
   ]
  },
  {
   "cell_type": "code",
   "execution_count": 3,
   "metadata": {},
   "outputs": [
    {
     "name": "stdout",
     "output_type": "stream",
     "text": [
      "10\n",
      "Module 1: Fundamentals of Programming  15 hours 57 min\n",
      "Module 2: Data Science: Exploratory Data Analysis and Data Visualization  20 hours 52 min\n",
      "Module 3: Foundations of Natural Language Processing and Machine Learning  33 hours 11 min\n",
      "Module 4: Machine Learning - II( Supervised Learning Models)  11 hours 17 min\n",
      "Module 5: Feature Engineering, Productionization and deployment of ML Models  10 hours 3 min\n",
      "Module 6: Machine Learning Real-World Case Studies  21 hours 12 min\n",
      "Module 7: Data Mining(Unsupervised Learning) and Recommender Systems + Real-World Case Studies  17 hours 58 min\n",
      "Module 8: Neural Networks, Computer Vision and Deep Learning  26 hours 20 min\n",
      "Module 9: Deep Learning Real-World Case Studies  6 hours 42 min\n",
      "Free Videos 16 hours 24 min\n"
     ]
    }
   ],
   "source": [
    "url2 = 'https://www.appliedaicourse.com/course/11/Applied-Machine-learning-course'\n",
    "result = session_requests.get(url2, headers = dict(referer = url2)).text\n",
    "soup = BeautifulSoup(result, 'lxml')\n",
    "#modules = soup.find_all('div', id = 'Curriculum')\n",
    "modules = soup.find_all('div', class_ = 'row p-0')\n",
    "print(len(modules))\n",
    "csvFile = open('applied.csv','w',newline='')\n",
    "csvWriter = csv.writer(csvFile)\n",
    "try:\n",
    "    for m in modules:\n",
    "        mod = m.span.font.text\n",
    "        #csvWriter.writerow([mod])\n",
    "        #cards = m.find_all('div', class_ = \"card-body px-4 p-2 card-body-n\")\n",
    "        cards = m.find_all('div', class_ = \"row pl-1\")\n",
    "        mins = []\n",
    "        cardsA = []\n",
    "        for c in cards:\n",
    "            #print(c.a.text.strip(), c.span.text)\n",
    "            mins.append(int(c.span.text.split(\" \")[0]))\n",
    "            #print(mins)\n",
    "            cardsA.append([c.a.text.strip(), c.span.text])\n",
    "        hour, minu = divmod(sum(mins), 60) \n",
    "        st = \"{} hours {} min\".format(hour, minu)\n",
    "        #print(st)\n",
    "        #print(mod, sum(mins))\n",
    "        #csvWriter.writerow([mod, sum(mins)])\n",
    "        csvWriter.writerow([mod, st])\n",
    "        for c in cardsA:\n",
    "            csvWriter.writerow([c[0], c[1]])\n",
    "        print(mod, st)\n",
    "        #break\n",
    "except:\n",
    "    print('None')\n",
    "csvFile.close()"
   ]
  },
  {
   "cell_type": "code",
   "execution_count": null,
   "metadata": {},
   "outputs": [],
   "source": []
  },
  {
   "cell_type": "code",
   "execution_count": null,
   "metadata": {},
   "outputs": [],
   "source": []
  }
 ],
 "metadata": {
  "kernelspec": {
   "display_name": "Python 3",
   "language": "python",
   "name": "python3"
  },
  "language_info": {
   "codemirror_mode": {
    "name": "ipython",
    "version": 3
   },
   "file_extension": ".py",
   "mimetype": "text/x-python",
   "name": "python",
   "nbconvert_exporter": "python",
   "pygments_lexer": "ipython3",
   "version": "3.7.4"
  }
 },
 "nbformat": 4,
 "nbformat_minor": 2
}
